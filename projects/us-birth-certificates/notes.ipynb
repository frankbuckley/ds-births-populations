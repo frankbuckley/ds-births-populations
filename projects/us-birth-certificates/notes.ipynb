{
 "cells": [
  {
   "cell_type": "markdown",
   "metadata": {},
   "source": [
    "# A notebook for experiments\n",
    "\n",
    "### Load data\n"
   ]
  },
  {
   "cell_type": "code",
   "execution_count": 19,
   "metadata": {},
   "outputs": [],
   "source": [
    "import duckdb\n",
    "import pandas as pd"
   ]
  },
  {
   "cell_type": "code",
   "execution_count": 27,
   "metadata": {},
   "outputs": [],
   "source": [
    "needed = [\"DOB_YY\", \"MAGER\", \"F_CA_DOWN\", \"CA_DOWN\"]\n",
    "\n",
    "df = pd.read_parquet(\n",
    "    \"data/us_births_all.parquet\",\n",
    "    columns=needed,\n",
    "    engine=\"pyarrow\",\n",
    "    dtype_backend=\"pyarrow\",\n",
    ")"
   ]
  },
  {
   "cell_type": "code",
   "execution_count": 28,
   "metadata": {},
   "outputs": [
    {
     "data": {
      "application/vnd.microsoft.datawrangler.viewer.v0+json": {
       "columns": [
        {
         "name": "index",
         "rawType": "object",
         "type": "string"
        },
        {
         "name": "DOB_YY",
         "rawType": "double[pyarrow]",
         "type": "unknown"
        },
        {
         "name": "MAGER",
         "rawType": "double[pyarrow]",
         "type": "unknown"
        },
        {
         "name": "F_CA_DOWN",
         "rawType": "double[pyarrow]",
         "type": "unknown"
        }
       ],
       "ref": "29063678-bfc7-4370-8965-147e8453c9fb",
       "rows": [
        [
         "count",
         "41576190.0",
         "41576190.0",
         "41576190.0"
        ],
        [
         "mean",
         "2018.885874294879",
         "29.070406595698163",
         "0.9906880596803123"
        ],
        [
         "std",
         "3.1712485501140484",
         "5.83565684157659",
         "0.09604805208361931"
        ],
        [
         "min",
         "2014.0",
         "12.0",
         "0.0"
        ],
        [
         "25%",
         "2016.0",
         "25.0",
         "1.0"
        ],
        [
         "50%",
         "2019.0",
         "29.0",
         "1.0"
        ],
        [
         "75%",
         "2022.0",
         "33.0",
         "1.0"
        ],
        [
         "max",
         "2024.0",
         "50.0",
         "1.0"
        ]
       ],
       "shape": {
        "columns": 3,
        "rows": 8
       }
      },
      "text/html": [
       "<div>\n",
       "<style scoped>\n",
       "    .dataframe tbody tr th:only-of-type {\n",
       "        vertical-align: middle;\n",
       "    }\n",
       "\n",
       "    .dataframe tbody tr th {\n",
       "        vertical-align: top;\n",
       "    }\n",
       "\n",
       "    .dataframe thead th {\n",
       "        text-align: right;\n",
       "    }\n",
       "</style>\n",
       "<table border=\"1\" class=\"dataframe\">\n",
       "  <thead>\n",
       "    <tr style=\"text-align: right;\">\n",
       "      <th></th>\n",
       "      <th>DOB_YY</th>\n",
       "      <th>MAGER</th>\n",
       "      <th>F_CA_DOWN</th>\n",
       "    </tr>\n",
       "  </thead>\n",
       "  <tbody>\n",
       "    <tr>\n",
       "      <th>count</th>\n",
       "      <td>41576190.0</td>\n",
       "      <td>41576190.0</td>\n",
       "      <td>41576190.0</td>\n",
       "    </tr>\n",
       "    <tr>\n",
       "      <th>mean</th>\n",
       "      <td>2018.885874</td>\n",
       "      <td>29.070407</td>\n",
       "      <td>0.990688</td>\n",
       "    </tr>\n",
       "    <tr>\n",
       "      <th>std</th>\n",
       "      <td>3.171249</td>\n",
       "      <td>5.835657</td>\n",
       "      <td>0.096048</td>\n",
       "    </tr>\n",
       "    <tr>\n",
       "      <th>min</th>\n",
       "      <td>2014.0</td>\n",
       "      <td>12.0</td>\n",
       "      <td>0.0</td>\n",
       "    </tr>\n",
       "    <tr>\n",
       "      <th>25%</th>\n",
       "      <td>2016.0</td>\n",
       "      <td>25.0</td>\n",
       "      <td>1.0</td>\n",
       "    </tr>\n",
       "    <tr>\n",
       "      <th>50%</th>\n",
       "      <td>2019.0</td>\n",
       "      <td>29.0</td>\n",
       "      <td>1.0</td>\n",
       "    </tr>\n",
       "    <tr>\n",
       "      <th>75%</th>\n",
       "      <td>2022.0</td>\n",
       "      <td>33.0</td>\n",
       "      <td>1.0</td>\n",
       "    </tr>\n",
       "    <tr>\n",
       "      <th>max</th>\n",
       "      <td>2024.0</td>\n",
       "      <td>50.0</td>\n",
       "      <td>1.0</td>\n",
       "    </tr>\n",
       "  </tbody>\n",
       "</table>\n",
       "</div>"
      ],
      "text/plain": [
       "            DOB_YY       MAGER   F_CA_DOWN\n",
       "count   41576190.0  41576190.0  41576190.0\n",
       "mean   2018.885874   29.070407    0.990688\n",
       "std       3.171249    5.835657    0.096048\n",
       "min         2014.0        12.0         0.0\n",
       "25%         2016.0        25.0         1.0\n",
       "50%         2019.0        29.0         1.0\n",
       "75%         2022.0        33.0         1.0\n",
       "max         2024.0        50.0         1.0"
      ]
     },
     "execution_count": 28,
     "metadata": {},
     "output_type": "execute_result"
    }
   ],
   "source": [
    "df.describe()\n"
   ]
  },
  {
   "cell_type": "code",
   "execution_count": 31,
   "metadata": {},
   "outputs": [
    {
     "data": {
      "application/vnd.microsoft.datawrangler.viewer.v0+json": {
       "columns": [
        {
         "name": "index",
         "rawType": "object",
         "type": "string"
        },
        {
         "name": "DOB_YY",
         "rawType": "double[pyarrow]",
         "type": "unknown"
        },
        {
         "name": "MAGER",
         "rawType": "double[pyarrow]",
         "type": "unknown"
        },
        {
         "name": "F_CA_DOWN",
         "rawType": "double[pyarrow]",
         "type": "unknown"
        }
       ],
       "ref": "acb33cf4-3b07-4265-84dc-b874a526d7a2",
       "rows": [
        [
         "count",
         "41189035.0",
         "41189035.0",
         "41189035.0"
        ],
        [
         "mean",
         "2018.9171478040212",
         "29.06147507461634",
         "1.0"
        ],
        [
         "std",
         "3.1602587397629516",
         "5.8356828563730065",
         "0.0"
        ],
        [
         "min",
         "2014.0",
         "12.0",
         "1.0"
        ],
        [
         "25%",
         "2016.0",
         "25.0",
         "1.0"
        ],
        [
         "50%",
         "2019.0",
         "29.0",
         "1.0"
        ],
        [
         "75%",
         "2022.0",
         "33.0",
         "1.0"
        ],
        [
         "max",
         "2024.0",
         "50.0",
         "1.0"
        ]
       ],
       "shape": {
        "columns": 3,
        "rows": 8
       }
      },
      "text/html": [
       "<div>\n",
       "<style scoped>\n",
       "    .dataframe tbody tr th:only-of-type {\n",
       "        vertical-align: middle;\n",
       "    }\n",
       "\n",
       "    .dataframe tbody tr th {\n",
       "        vertical-align: top;\n",
       "    }\n",
       "\n",
       "    .dataframe thead th {\n",
       "        text-align: right;\n",
       "    }\n",
       "</style>\n",
       "<table border=\"1\" class=\"dataframe\">\n",
       "  <thead>\n",
       "    <tr style=\"text-align: right;\">\n",
       "      <th></th>\n",
       "      <th>DOB_YY</th>\n",
       "      <th>MAGER</th>\n",
       "      <th>F_CA_DOWN</th>\n",
       "    </tr>\n",
       "  </thead>\n",
       "  <tbody>\n",
       "    <tr>\n",
       "      <th>count</th>\n",
       "      <td>41189035.0</td>\n",
       "      <td>41189035.0</td>\n",
       "      <td>41189035.0</td>\n",
       "    </tr>\n",
       "    <tr>\n",
       "      <th>mean</th>\n",
       "      <td>2018.917148</td>\n",
       "      <td>29.061475</td>\n",
       "      <td>1.0</td>\n",
       "    </tr>\n",
       "    <tr>\n",
       "      <th>std</th>\n",
       "      <td>3.160259</td>\n",
       "      <td>5.835683</td>\n",
       "      <td>0.0</td>\n",
       "    </tr>\n",
       "    <tr>\n",
       "      <th>min</th>\n",
       "      <td>2014.0</td>\n",
       "      <td>12.0</td>\n",
       "      <td>1.0</td>\n",
       "    </tr>\n",
       "    <tr>\n",
       "      <th>25%</th>\n",
       "      <td>2016.0</td>\n",
       "      <td>25.0</td>\n",
       "      <td>1.0</td>\n",
       "    </tr>\n",
       "    <tr>\n",
       "      <th>50%</th>\n",
       "      <td>2019.0</td>\n",
       "      <td>29.0</td>\n",
       "      <td>1.0</td>\n",
       "    </tr>\n",
       "    <tr>\n",
       "      <th>75%</th>\n",
       "      <td>2022.0</td>\n",
       "      <td>33.0</td>\n",
       "      <td>1.0</td>\n",
       "    </tr>\n",
       "    <tr>\n",
       "      <th>max</th>\n",
       "      <td>2024.0</td>\n",
       "      <td>50.0</td>\n",
       "      <td>1.0</td>\n",
       "    </tr>\n",
       "  </tbody>\n",
       "</table>\n",
       "</div>"
      ],
      "text/plain": [
       "            DOB_YY       MAGER   F_CA_DOWN\n",
       "count   41189035.0  41189035.0  41189035.0\n",
       "mean   2018.917148   29.061475         1.0\n",
       "std       3.160259    5.835683         0.0\n",
       "min         2014.0        12.0         1.0\n",
       "25%         2016.0        25.0         1.0\n",
       "50%         2019.0        29.0         1.0\n",
       "75%         2022.0        33.0         1.0\n",
       "max         2024.0        50.0         1.0"
      ]
     },
     "execution_count": 31,
     "metadata": {},
     "output_type": "execute_result"
    }
   ],
   "source": [
    "\n",
    "# group by CA_DOWN and F_CA_DOWN\n",
    "ds = df[df[\"F_CA_DOWN\"] == 1]\n",
    "ds.describe()"
   ]
  },
  {
   "cell_type": "code",
   "execution_count": null,
   "metadata": {},
   "outputs": [
    {
     "name": "stdout",
     "output_type": "stream",
     "text": [
      "CA_DOWN counts by year:\n"
     ]
    },
    {
     "data": {
      "application/vnd.microsoft.datawrangler.viewer.v0+json": {
       "columns": [
        {
         "name": "DOB_YY",
         "rawType": "int64[pyarrow]",
         "type": "unknown"
        },
        {
         "name": "C",
         "rawType": "int64[pyarrow]",
         "type": "unknown"
        },
        {
         "name": "N",
         "rawType": "int64[pyarrow]",
         "type": "unknown"
        },
        {
         "name": "P",
         "rawType": "int64[pyarrow]",
         "type": "unknown"
        },
        {
         "name": "U",
         "rawType": "int64[pyarrow]",
         "type": "unknown"
        }
       ],
       "ref": "c6190a0d-c173-43f6-99fc-30951e3de0df",
       "rows": [
        [
         "2014",
         "726",
         "3842067",
         "1118",
         "11364"
        ],
        [
         "2015",
         "846",
         "3911953",
         "1159",
         "5710"
        ],
        [
         "2016",
         "939",
         "3947116",
         "1229",
         "6828"
        ],
        [
         "2017",
         "901",
         "3857773",
         "1143",
         "4937"
        ],
        [
         "2018",
         "921",
         "3793319",
         "1187",
         "6107"
        ],
        [
         "2019",
         "923",
         "3750084",
         "1107",
         "5468"
        ],
        [
         "2020",
         "894",
         "3612707",
         "1060",
         "5165"
        ],
        [
         "2021",
         "857",
         "3660477",
         "1046",
         "7548"
        ],
        [
         "2022",
         "818",
         "3666667",
         "1043",
         "7501"
        ],
        [
         "2023",
         "867",
         "3594893",
         "988",
         "8333"
        ],
        [
         "2024",
         "864",
         "3626913",
         "1022",
         "9637"
        ]
       ],
       "shape": {
        "columns": 4,
        "rows": 11
       }
      },
      "text/html": [
       "<div>\n",
       "<style scoped>\n",
       "    .dataframe tbody tr th:only-of-type {\n",
       "        vertical-align: middle;\n",
       "    }\n",
       "\n",
       "    .dataframe tbody tr th {\n",
       "        vertical-align: top;\n",
       "    }\n",
       "\n",
       "    .dataframe thead th {\n",
       "        text-align: right;\n",
       "    }\n",
       "</style>\n",
       "<table border=\"1\" class=\"dataframe\">\n",
       "  <thead>\n",
       "    <tr style=\"text-align: right;\">\n",
       "      <th>CA_DOWN</th>\n",
       "      <th>C</th>\n",
       "      <th>N</th>\n",
       "      <th>P</th>\n",
       "      <th>U</th>\n",
       "    </tr>\n",
       "    <tr>\n",
       "      <th>DOB_YY</th>\n",
       "      <th></th>\n",
       "      <th></th>\n",
       "      <th></th>\n",
       "      <th></th>\n",
       "    </tr>\n",
       "  </thead>\n",
       "  <tbody>\n",
       "    <tr>\n",
       "      <th>2014</th>\n",
       "      <td>726</td>\n",
       "      <td>3842067</td>\n",
       "      <td>1118</td>\n",
       "      <td>11364</td>\n",
       "    </tr>\n",
       "    <tr>\n",
       "      <th>2015</th>\n",
       "      <td>846</td>\n",
       "      <td>3911953</td>\n",
       "      <td>1159</td>\n",
       "      <td>5710</td>\n",
       "    </tr>\n",
       "    <tr>\n",
       "      <th>2016</th>\n",
       "      <td>939</td>\n",
       "      <td>3947116</td>\n",
       "      <td>1229</td>\n",
       "      <td>6828</td>\n",
       "    </tr>\n",
       "    <tr>\n",
       "      <th>2017</th>\n",
       "      <td>901</td>\n",
       "      <td>3857773</td>\n",
       "      <td>1143</td>\n",
       "      <td>4937</td>\n",
       "    </tr>\n",
       "    <tr>\n",
       "      <th>2018</th>\n",
       "      <td>921</td>\n",
       "      <td>3793319</td>\n",
       "      <td>1187</td>\n",
       "      <td>6107</td>\n",
       "    </tr>\n",
       "    <tr>\n",
       "      <th>2019</th>\n",
       "      <td>923</td>\n",
       "      <td>3750084</td>\n",
       "      <td>1107</td>\n",
       "      <td>5468</td>\n",
       "    </tr>\n",
       "    <tr>\n",
       "      <th>2020</th>\n",
       "      <td>894</td>\n",
       "      <td>3612707</td>\n",
       "      <td>1060</td>\n",
       "      <td>5165</td>\n",
       "    </tr>\n",
       "    <tr>\n",
       "      <th>2021</th>\n",
       "      <td>857</td>\n",
       "      <td>3660477</td>\n",
       "      <td>1046</td>\n",
       "      <td>7548</td>\n",
       "    </tr>\n",
       "    <tr>\n",
       "      <th>2022</th>\n",
       "      <td>818</td>\n",
       "      <td>3666667</td>\n",
       "      <td>1043</td>\n",
       "      <td>7501</td>\n",
       "    </tr>\n",
       "    <tr>\n",
       "      <th>2023</th>\n",
       "      <td>867</td>\n",
       "      <td>3594893</td>\n",
       "      <td>988</td>\n",
       "      <td>8333</td>\n",
       "    </tr>\n",
       "    <tr>\n",
       "      <th>2024</th>\n",
       "      <td>864</td>\n",
       "      <td>3626913</td>\n",
       "      <td>1022</td>\n",
       "      <td>9637</td>\n",
       "    </tr>\n",
       "  </tbody>\n",
       "</table>\n",
       "</div>"
      ],
      "text/plain": [
       "CA_DOWN    C        N     P      U\n",
       "DOB_YY                            \n",
       "2014     726  3842067  1118  11364\n",
       "2015     846  3911953  1159   5710\n",
       "2016     939  3947116  1229   6828\n",
       "2017     901  3857773  1143   4937\n",
       "2018     921  3793319  1187   6107\n",
       "2019     923  3750084  1107   5468\n",
       "2020     894  3612707  1060   5165\n",
       "2021     857  3660477  1046   7548\n",
       "2022     818  3666667  1043   7501\n",
       "2023     867  3594893   988   8333\n",
       "2024     864  3626913  1022   9637"
      ]
     },
     "execution_count": 41,
     "metadata": {},
     "output_type": "execute_result"
    }
   ],
   "source": [
    "ds_df = ds.unstack(fill_value=0)\n",
    "ds_df"
   ]
  }
 ],
 "metadata": {
  "kernelspec": {
   "display_name": "Python 3",
   "language": "python",
   "name": "python3"
  },
  "language_info": {
   "codemirror_mode": {
    "name": "ipython",
    "version": 3
   },
   "file_extension": ".py",
   "mimetype": "text/x-python",
   "name": "python",
   "nbconvert_exporter": "python",
   "pygments_lexer": "ipython3",
   "version": "3.13.9"
  }
 },
 "nbformat": 4,
 "nbformat_minor": 2
}
