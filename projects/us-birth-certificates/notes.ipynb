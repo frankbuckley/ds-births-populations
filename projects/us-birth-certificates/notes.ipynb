{
 "cells": [
  {
   "cell_type": "markdown",
   "metadata": {},
   "source": [
    "# Notes\n"
   ]
  },
  {
   "cell_type": "code",
   "metadata": {
    "ExecuteTime": {
     "end_time": "2025-10-31T14:33:50.407961Z",
     "start_time": "2025-10-31T14:33:49.850786Z"
    }
   },
   "source": [
    "import chance\n",
    "import duckdb\n",
    "import pyarrow as pa\n",
    "import pyarrow.compute as pc\n",
    "import pandas as pd\n",
    "from graphviz import Digraph\n",
    "from fields import Fields"
   ],
   "outputs": [],
   "execution_count": 1
  },
  {
   "metadata": {},
   "cell_type": "markdown",
   "source": "## Data cleaning and optimisation"
  },
  {
   "metadata": {
    "ExecuteTime": {
     "end_time": "2025-10-31T14:34:03.631064Z",
     "start_time": "2025-10-31T14:33:50.412947Z"
    }
   },
   "cell_type": "code",
   "source": "df = pd.read_parquet(\"./data/us_births_combined.parquet\", dtype_backend=\"pyarrow\")",
   "outputs": [],
   "execution_count": 2
  },
  {
   "metadata": {
    "ExecuteTime": {
     "end_time": "2025-10-31T14:34:12.151694Z",
     "start_time": "2025-10-31T14:34:12.147234Z"
    }
   },
   "cell_type": "code",
   "source": [
    "def constrain_pa_series_to_uint8(series: pd.Series, min: int = 0, max: int = 255) -> pd.Series:\n",
    "    arr = pa.array(series, type=pa.float64())\n",
    "    arr_i8 = constrain_pa_array_to_uint8(arr, min=min, max=max)\n",
    "    return pd.Series(arr_i8, dtype=\"uint8[pyarrow]\")\n",
    "\n",
    "\n",
    "def constrain_pa_series_to_uint16(series: pd.Series, min: int = 0, max: int = 65535) -> pd.Series:\n",
    "    arr = pa.array(series, type=pa.float64())\n",
    "    arr_i16 = constrain_pa_array_to_uint16(arr, min=min, max=max)\n",
    "    return pd.Series(arr_i16, dtype=\"uint16[pyarrow]\")\n",
    "\n",
    "\n",
    "def constrain_pa_array_to_uint8(arr: pa.Array, min: int = 0, max: int = 255) -> pa.Array:\n",
    "    trunc = pc.round(arr, ndigits=0, round_mode=\"towards_zero\")\n",
    "    is_finite = pc.is_finite(trunc)\n",
    "    lo = pa.scalar(min, type=pa.float64())\n",
    "    hi = pa.scalar(max, type=pa.float64())\n",
    "    ge_lo = pc.greater_equal(trunc, lo)\n",
    "    le_hi = pc.less_equal(trunc, hi)\n",
    "    in_range = pc.and_kleene(ge_lo, le_hi)\n",
    "    keep = pc.and_kleene(is_finite, in_range)\n",
    "    trunc_masked = pc.if_else(keep, trunc, pa.scalar(None, type=pa.float64()))\n",
    "    arr_i8 = pc.cast(trunc_masked, pa.uint8(), safe=False)\n",
    "    return arr_i8\n",
    "\n",
    "\n",
    "def constrain_pa_array_to_uint16(arr: pa.Array, min: int = 0, max: int = 65535) -> pa.Array:\n",
    "    trunc = pc.round(arr, ndigits=0, round_mode=\"towards_zero\")\n",
    "    is_finite = pc.is_finite(trunc)\n",
    "    lo = pa.scalar(min, type=pa.float64())\n",
    "    hi = pa.scalar(max, type=pa.float64())\n",
    "    ge_lo = pc.greater_equal(trunc, lo)\n",
    "    le_hi = pc.less_equal(trunc, hi)\n",
    "    in_range = pc.and_kleene(ge_lo, le_hi)\n",
    "    keep = pc.and_kleene(is_finite, in_range)\n",
    "    trunc_masked = pc.if_else(keep, trunc, pa.scalar(None, type=pa.float64()))\n",
    "    arr_i16 = pc.cast(trunc_masked, pa.uint16(), safe=False)\n",
    "    return arr_i16"
   ],
   "outputs": [],
   "execution_count": 3
  },
  {
   "metadata": {
    "ExecuteTime": {
     "end_time": "2025-10-31T14:34:47.954069Z",
     "start_time": "2025-10-31T14:34:12.166740Z"
    }
   },
   "cell_type": "code",
   "source": [
    "df[Fields.DOB_YY] = constrain_pa_series_to_uint16(df[Fields.DOB_YY], min=1989)\n",
    "df[Fields.DOB_MM] = constrain_pa_series_to_uint8(df[Fields.DOB_MM], min=1, max=12)\n",
    "df[Fields.BFACIL] = constrain_pa_series_to_uint8(df[Fields.BFACIL], min=1, max=9)\n",
    "df[Fields.F_BFACIL] = constrain_pa_series_to_uint8(df[Fields.BFACIL], min=0, max=1)\n",
    "df[Fields.MAGE_IMPFLG] = constrain_pa_series_to_uint8(df[Fields.MAGE_IMPFLG], min=0, max=1)\n",
    "df[Fields.MAGE_REPFLG] = constrain_pa_series_to_uint8(pd.to_numeric(df[Fields.MAGE_REPFLG], errors=\"coerce\"), min=0,\n",
    "                                                      max=1)\n",
    "df[Fields.MAGER] = constrain_pa_series_to_uint8(df[Fields.MAGER], min=12, max=50)\n",
    "df[Fields.MAGER14] = constrain_pa_series_to_uint8(df[Fields.MAGER14], min=1, max=14)\n",
    "df[Fields.MAGER9] = constrain_pa_series_to_uint8(df[Fields.MAGER9], min=1, max=14)\n",
    "df[Fields.MBSTATE_REC] = constrain_pa_series_to_uint8(df[Fields.MBSTATE_REC], min=1, max=3)\n",
    "df[Fields.RESTATUS] = constrain_pa_series_to_uint8(df[Fields.RESTATUS], min=1, max=2)\n",
    "df[Fields.MRACE31] = constrain_pa_series_to_uint8(df[Fields.MRACE31], min=1, max=31)\n",
    "df[Fields.MRACE6] = constrain_pa_series_to_uint8(df[Fields.MRACE6], min=1, max=6)\n",
    "df[Fields.MRACE15] = constrain_pa_series_to_uint8(df[Fields.MRACE15], min=1, max=15)\n",
    "df[Fields.MRACEIMP] = constrain_pa_series_to_uint8(df[Fields.MRACEIMP], min=1, max=2)\n",
    "df[Fields.MHISPX] = constrain_pa_series_to_uint8(df[Fields.MHISPX], min=0, max=9)\n",
    "df[Fields.MHISP_R] = constrain_pa_series_to_uint8(df[Fields.MHISP_R], min=0, max=9)\n",
    "df[Fields.F_MHISP] = constrain_pa_series_to_uint8(df[Fields.F_MHISP], min=0, max=1)\n",
    "df[Fields.MRACEHISP] = constrain_pa_series_to_uint8(df[Fields.MRACEHISP], min=1, max=8)\n",
    "df[Fields.MAR_P] = df[Fields.MAR_P].astype(pd.ArrowDtype(pa.string()))\n",
    "df[Fields.DMAR] = df[Fields.DMAR].astype(pd.ArrowDtype(pa.string()))\n",
    "df[Fields.MAR_IMP] = df[Fields.MAR_IMP].astype(pd.ArrowDtype(pa.string()))\n",
    "df[Fields.F_MAR_P] = constrain_pa_series_to_uint8(df[Fields.F_MAR_P], min=0, max=1)\n",
    "df[Fields.MEDUC] = constrain_pa_series_to_uint8(df[Fields.MEDUC], min=1, max=9)\n",
    "df[Fields.F_MEDUC] = constrain_pa_series_to_uint8(df[Fields.F_MEDUC], min=0, max=1)\n",
    "df[Fields.FAGERPT_FLG] = df[Fields.FAGERPT_FLG].astype(pd.ArrowDtype(pa.string()))\n",
    "df[Fields.FAGECOMB] = constrain_pa_series_to_uint8(df[Fields.FAGECOMB], min=0, max=99)\n",
    "df[Fields.FAGEREC11] = constrain_pa_series_to_uint8(df[Fields.FAGEREC11], min=0, max=11)\n",
    "\n",
    "df[Fields.DOWNS] = constrain_pa_series_to_uint8(df[Fields.DOWNS], min=0, max=255)\n",
    "df[Fields.UCA_DOWNS] = constrain_pa_series_to_uint8(df[Fields.UCA_DOWNS], min=0, max=255)\n",
    "\n",
    "df[Fields.CA_DOWN] = df[Fields.CA_DOWN].astype(pd.ArrowDtype(pa.string()))\n",
    "df[Fields.CA_DOWNS] = df[Fields.CA_DOWNS].astype(pd.ArrowDtype(pa.string()))\n",
    "\n",
    "df[Fields.CA_DOWN_C] = df[Fields.CA_DOWN].combine_first(df[Fields.CA_DOWNS])\n"
   ],
   "outputs": [],
   "execution_count": 4
  },
  {
   "metadata": {
    "ExecuteTime": {
     "end_time": "2025-10-31T14:34:51.459371Z",
     "start_time": "2025-10-31T14:34:47.971434Z"
    }
   },
   "cell_type": "code",
   "source": [
    "# note: we only have MAGER from 2004\n",
    "df[Fields.P_DS_LB_NT] = chance.get_ds_lb_nt_probability_array(df[Fields.MAGER])"
   ],
   "outputs": [],
   "execution_count": 5
  },
  {
   "metadata": {
    "ExecuteTime": {
     "end_time": "2025-10-31T14:41:39.842072Z",
     "start_time": "2025-10-31T14:41:32.573992Z"
    }
   },
   "cell_type": "code",
   "source": [
    "prevalence_df = pd.DataFrame({\n",
    "    Fields.DOB_YY: list(range(1989, 2025)),\n",
    "    Fields.P_DS_LB_WT: [\n",
    "        0.001038,\n",
    "        0.001055,\n",
    "        0.001077,\n",
    "        0.001083,\n",
    "        0.001093,\n",
    "        0.001102,\n",
    "        0.001121,\n",
    "        0.001099,\n",
    "        0.001124,\n",
    "        0.001136,\n",
    "        0.001153,\n",
    "        0.001149,\n",
    "        0.001179,\n",
    "        0.001216,\n",
    "        0.001219,\n",
    "        0.001218,\n",
    "        0.001236,\n",
    "        0.001244,\n",
    "        0.001261,\n",
    "        0.001257,\n",
    "        0.001262,\n",
    "        0.001244,\n",
    "        0.00127,\n",
    "        0.001265,\n",
    "        0.001283,\n",
    "        0.001302,\n",
    "        0.001265051,\n",
    "        0.001295784,\n",
    "        0.0013375,\n",
    "        0.001324215,\n",
    "        0.001324215,\n",
    "        0.001324215,\n",
    "        0.001324215,\n",
    "        0.001324215,\n",
    "        0.001324215,\n",
    "        0.001324215,\n",
    "    ],\n",
    "})\n",
    "\n",
    "df = df.merge(prevalence_df, on=Fields.DOB_YY, how=\"left\")"
   ],
   "outputs": [],
   "execution_count": 10
  },
  {
   "metadata": {
    "ExecuteTime": {
     "end_time": "2025-10-31T14:44:42.109673Z",
     "start_time": "2025-10-31T14:42:57.102086Z"
    }
   },
   "cell_type": "code",
   "source": "df_2004 = df[df[Fields.DOB_YY] >= 2004]\n",
   "outputs": [],
   "execution_count": 11
  },
  {
   "metadata": {
    "ExecuteTime": {
     "end_time": "2025-10-31T14:44:49.281167Z",
     "start_time": "2025-10-31T14:44:46.290880Z"
    }
   },
   "cell_type": "code",
   "source": "df_2004[[Fields.DOB_YY, Fields.P_DS_LB_NT, Fields.P_DS_LB_WT]].groupby(Fields.DOB_YY).sum()",
   "outputs": [
    {
     "data": {
      "text/plain": [
       "         p_ds_lb_nt   p_ds_lb_wt\n",
       "dob_yy                          \n",
       "2004    7440.391929  5016.828726\n",
       "2005    7493.838661  5123.978904\n",
       "2006    7665.960631  5315.891900\n",
       "2007    7748.428247  5452.574088\n",
       "2008    7699.195333  5348.731092\n",
       "2009    7565.147534  5221.949032\n",
       "2010    7439.844521  4984.838620\n",
       "2011    7426.414635  5030.749400\n",
       "2012    7500.288505  5010.406940\n",
       "2013    7568.050772  5056.000212\n",
       "2014    7773.290827  5205.623850\n",
       "2015    7888.163531  5045.950670\n",
       "2016    7977.655248  5126.266632\n",
       "2017    7968.123687  5169.108475\n",
       "2018    8023.239877  5034.012592\n",
       "2019    8076.697233  4975.810694\n",
       "2020    7907.029413  4793.427887\n",
       "2021    8181.376055  4859.773707\n",
       "2022    8425.874735  4867.852742\n",
       "2023    8390.234377  4773.902336\n",
       "2024    8594.034257  4818.071528"
      ],
      "text/html": [
       "<div>\n",
       "<style scoped>\n",
       "    .dataframe tbody tr th:only-of-type {\n",
       "        vertical-align: middle;\n",
       "    }\n",
       "\n",
       "    .dataframe tbody tr th {\n",
       "        vertical-align: top;\n",
       "    }\n",
       "\n",
       "    .dataframe thead th {\n",
       "        text-align: right;\n",
       "    }\n",
       "</style>\n",
       "<table border=\"1\" class=\"dataframe\">\n",
       "  <thead>\n",
       "    <tr style=\"text-align: right;\">\n",
       "      <th></th>\n",
       "      <th>p_ds_lb_nt</th>\n",
       "      <th>p_ds_lb_wt</th>\n",
       "    </tr>\n",
       "    <tr>\n",
       "      <th>dob_yy</th>\n",
       "      <th></th>\n",
       "      <th></th>\n",
       "    </tr>\n",
       "  </thead>\n",
       "  <tbody>\n",
       "    <tr>\n",
       "      <th>2004</th>\n",
       "      <td>7440.391929</td>\n",
       "      <td>5016.828726</td>\n",
       "    </tr>\n",
       "    <tr>\n",
       "      <th>2005</th>\n",
       "      <td>7493.838661</td>\n",
       "      <td>5123.978904</td>\n",
       "    </tr>\n",
       "    <tr>\n",
       "      <th>2006</th>\n",
       "      <td>7665.960631</td>\n",
       "      <td>5315.891900</td>\n",
       "    </tr>\n",
       "    <tr>\n",
       "      <th>2007</th>\n",
       "      <td>7748.428247</td>\n",
       "      <td>5452.574088</td>\n",
       "    </tr>\n",
       "    <tr>\n",
       "      <th>2008</th>\n",
       "      <td>7699.195333</td>\n",
       "      <td>5348.731092</td>\n",
       "    </tr>\n",
       "    <tr>\n",
       "      <th>2009</th>\n",
       "      <td>7565.147534</td>\n",
       "      <td>5221.949032</td>\n",
       "    </tr>\n",
       "    <tr>\n",
       "      <th>2010</th>\n",
       "      <td>7439.844521</td>\n",
       "      <td>4984.838620</td>\n",
       "    </tr>\n",
       "    <tr>\n",
       "      <th>2011</th>\n",
       "      <td>7426.414635</td>\n",
       "      <td>5030.749400</td>\n",
       "    </tr>\n",
       "    <tr>\n",
       "      <th>2012</th>\n",
       "      <td>7500.288505</td>\n",
       "      <td>5010.406940</td>\n",
       "    </tr>\n",
       "    <tr>\n",
       "      <th>2013</th>\n",
       "      <td>7568.050772</td>\n",
       "      <td>5056.000212</td>\n",
       "    </tr>\n",
       "    <tr>\n",
       "      <th>2014</th>\n",
       "      <td>7773.290827</td>\n",
       "      <td>5205.623850</td>\n",
       "    </tr>\n",
       "    <tr>\n",
       "      <th>2015</th>\n",
       "      <td>7888.163531</td>\n",
       "      <td>5045.950670</td>\n",
       "    </tr>\n",
       "    <tr>\n",
       "      <th>2016</th>\n",
       "      <td>7977.655248</td>\n",
       "      <td>5126.266632</td>\n",
       "    </tr>\n",
       "    <tr>\n",
       "      <th>2017</th>\n",
       "      <td>7968.123687</td>\n",
       "      <td>5169.108475</td>\n",
       "    </tr>\n",
       "    <tr>\n",
       "      <th>2018</th>\n",
       "      <td>8023.239877</td>\n",
       "      <td>5034.012592</td>\n",
       "    </tr>\n",
       "    <tr>\n",
       "      <th>2019</th>\n",
       "      <td>8076.697233</td>\n",
       "      <td>4975.810694</td>\n",
       "    </tr>\n",
       "    <tr>\n",
       "      <th>2020</th>\n",
       "      <td>7907.029413</td>\n",
       "      <td>4793.427887</td>\n",
       "    </tr>\n",
       "    <tr>\n",
       "      <th>2021</th>\n",
       "      <td>8181.376055</td>\n",
       "      <td>4859.773707</td>\n",
       "    </tr>\n",
       "    <tr>\n",
       "      <th>2022</th>\n",
       "      <td>8425.874735</td>\n",
       "      <td>4867.852742</td>\n",
       "    </tr>\n",
       "    <tr>\n",
       "      <th>2023</th>\n",
       "      <td>8390.234377</td>\n",
       "      <td>4773.902336</td>\n",
       "    </tr>\n",
       "    <tr>\n",
       "      <th>2024</th>\n",
       "      <td>8594.034257</td>\n",
       "      <td>4818.071528</td>\n",
       "    </tr>\n",
       "  </tbody>\n",
       "</table>\n",
       "</div>"
      ]
     },
     "execution_count": 12,
     "metadata": {},
     "output_type": "execute_result"
    }
   ],
   "execution_count": 12
  },
  {
   "metadata": {},
   "cell_type": "code",
   "outputs": [],
   "execution_count": null,
   "source": "df[[Fields.DOB_YY, Fields.CA_DOWNS]].groupby(Fields.DOB_YY).value_counts().unstack(fill_value=0).sort_index()"
  },
  {
   "metadata": {},
   "cell_type": "code",
   "outputs": [],
   "execution_count": null,
   "source": ""
  },
  {
   "metadata": {},
   "cell_type": "code",
   "outputs": [],
   "execution_count": null,
   "source": ""
  },
  {
   "metadata": {},
   "cell_type": "code",
   "source": "df.dtypes",
   "outputs": [],
   "execution_count": null
  },
  {
   "metadata": {},
   "cell_type": "code",
   "source": "",
   "outputs": [],
   "execution_count": null
  },
  {
   "metadata": {
    "ExecuteTime": {
     "end_time": "2025-10-31T15:16:22.094836Z",
     "start_time": "2025-10-31T15:14:18.492579Z"
    }
   },
   "cell_type": "code",
   "source": "df.to_parquet(\"./data/us_births.parquet\")",
   "outputs": [],
   "execution_count": 13
  },
  {
   "metadata": {
    "ExecuteTime": {
     "end_time": "2025-10-31T15:18:10.699586Z",
     "start_time": "2025-10-31T15:16:27.866421Z"
    }
   },
   "cell_type": "code",
   "source": "df_2004.to_parquet(\"./data/us_births_2004_2024.parquet\")",
   "outputs": [],
   "execution_count": 14
  },
  {
   "metadata": {},
   "cell_type": "code",
   "source": [
    "from graphviz import Digraph\n",
    "\n",
    "dag = Digraph('DownSyndromeModel', format='png')\n",
    "\n",
    "dag.attr(fontname=\"Helvetica\")\n",
    "dag.attr(\"node\", fontname=\"Helvetica\")\n",
    "dag.attr(\"edge\", fontname=\"Helvetica\")\n",
    "\n",
    "# set font sizes\n",
    "dag.attr(size=\"8,6\")\n",
    "dag.attr(\"node\", fontsize=\"14\", style=\"filled\", fillcolor=\"#99ccff\")\n",
    "dag.attr(\"edge\", fontsize=\"12\")\n",
    "\n",
    "dag.attr(rankdir=\"TB\", splines=\"spline\")  # Top-to-bottom flow\n",
    "dag.attr(\"node\", shape=\"circle\", fixedsize=\"true\", width=\"1.75\")\n",
    "\n",
    "edges = [\n",
    "    ('Age', 'Case'),\n",
    "    ('Age', 'Screening'),\n",
    "    ('Age', 'Termination'),\n",
    "    ('Age', 'Income'),\n",
    "    ('Income', 'Case'),\n",
    "    ('Case', 'Termination'),\n",
    "    ('Case', 'DS birth'),\n",
    "    ('Screening', 'Termination'),\n",
    "    ('Termination', 'DS birth'),\n",
    "    ('DS birth', 'Recorded'),\n",
    "]\n",
    "\n",
    "for src, dst in edges:\n",
    "    dag.edge(src, dst)\n",
    "\n",
    "dag\n"
   ],
   "outputs": [],
   "execution_count": null
  },
  {
   "cell_type": "code",
   "metadata": {},
   "source": "con = duckdb.connect(database=\"./data/us_births.db\", read_only=True)",
   "outputs": [],
   "execution_count": null
  },
  {
   "metadata": {},
   "cell_type": "code",
   "source": [
    "con.execute(\n",
    "    \"\"\"\n",
    "    SELECT dob_yy, ca_down, count(*) as counts\n",
    "    FROM us_births\n",
    "    group by dob_yy, ca_down\n",
    "    order by dob_yy, ca_down\n",
    "    \"\"\"\n",
    ").df()"
   ],
   "outputs": [],
   "execution_count": null
  },
  {
   "metadata": {},
   "cell_type": "code",
   "source": "df_2012 = pd.read_parquet(\"./data/us_births_2012.parquet\")",
   "outputs": [],
   "execution_count": null
  },
  {
   "metadata": {},
   "cell_type": "code",
   "source": [
    "# counts of each value of df_2012[\"uca_downs\"]\n",
    "df_2012[\"ca_downs\"].value_counts().sort_index()"
   ],
   "outputs": [],
   "execution_count": null
  }
 ],
 "metadata": {
  "kernelspec": {
   "display_name": "data-stats-models-ml",
   "language": "python",
   "name": "python3"
  },
  "language_info": {
   "codemirror_mode": {
    "name": "ipython",
    "version": 3
   },
   "file_extension": ".py",
   "mimetype": "text/x-python",
   "name": "python",
   "nbconvert_exporter": "python",
   "pygments_lexer": "ipython3",
   "version": "3.13.9"
  }
 },
 "nbformat": 4,
 "nbformat_minor": 2
}
